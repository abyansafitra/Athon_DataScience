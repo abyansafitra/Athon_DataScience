{
 "cells": [
  {
   "cell_type": "markdown",
   "id": "c1eb27c8",
   "metadata": {},
   "source": [
    "# Data Science Tools and Ecosystem"
   ]
  },
  {
   "cell_type": "markdown",
   "id": "65b984ee",
   "metadata": {},
   "source": [
    "In this notebook, Data Science Tools and Ecosystem are summarized."
   ]
  },
  {
   "cell_type": "markdown",
   "id": "2a9a4a13",
   "metadata": {},
   "source": [
    "Some of the popular languages that Data Scientists use are:\n",
    "1. Phyton\n",
    "2. R\n",
    "3. SQL"
   ]
  },
  {
   "cell_type": "markdown",
   "id": "fd886490",
   "metadata": {},
   "source": [
    "Some of the commonly used libraries used by Data Scientists include:\n",
    "1. TensorFlow\n",
    "2. NumPy\n",
    "3. SciPy"
   ]
  },
  {
   "cell_type": "markdown",
   "id": "4a46c9fa",
   "metadata": {},
   "source": [
    "<table>\n",
    "<tr>\n",
    "<th>Data Science Tools</th>\n",
    "</tr>\n",
    "\n",
    "<tr>\n",
    "    <td>Jupyter Notebooks</td>\n",
    "</tr>\n",
    "<tr>\n",
    "    <td>RStudio </td>\n",
    "</tr>\n",
    "<tr>\n",
    "    <td>Apache Zeppelin</td>\n",
    "</tr>\n",
    "\n",
    "</table>"
   ]
  },
  {
   "cell_type": "markdown",
   "id": "6bec6cbb",
   "metadata": {},
   "source": [
    "### Below are a few examples of evaluating arithmetic expressions in Python.\n"
   ]
  },
  {
   "cell_type": "code",
   "execution_count": 3,
   "id": "81233046",
   "metadata": {},
   "outputs": [
    {
     "data": {
      "text/plain": [
       "17"
      ]
     },
     "execution_count": 3,
     "metadata": {},
     "output_type": "execute_result"
    }
   ],
   "source": [
    "#This a simple arithmetic expression to mutiply then add integers\n",
    "(3*4)+5"
   ]
  },
  {
   "cell_type": "code",
   "execution_count": 4,
   "id": "45e94060",
   "metadata": {},
   "outputs": [
    {
     "data": {
      "text/plain": [
       "3.3333333333333335"
      ]
     },
     "execution_count": 4,
     "metadata": {},
     "output_type": "execute_result"
    }
   ],
   "source": [
    "#This will convert 200 minutes to hours by diving by 60\n",
    "200/60"
   ]
  },
  {
   "cell_type": "markdown",
   "id": "024f77b5",
   "metadata": {},
   "source": [
    "<b> Objectives:</b>\n",
    "- Popular Languages that Data Scientists \n",
    "- Data Science Tools\n",
    "- Commonly used Libraries for Data Scientist\n"
   ]
  },
  {
   "cell_type": "markdown",
   "id": "eef525c2",
   "metadata": {},
   "source": [
    "## Author\n",
    "Muhammad Abyan"
   ]
  },
  {
   "cell_type": "code",
   "execution_count": null,
   "id": "2cf16d78",
   "metadata": {},
   "outputs": [],
   "source": []
  }
 ],
 "metadata": {
  "kernelspec": {
   "display_name": "Python 3 (ipykernel)",
   "language": "python",
   "name": "python3"
  },
  "language_info": {
   "codemirror_mode": {
    "name": "ipython",
    "version": 3
   },
   "file_extension": ".py",
   "mimetype": "text/x-python",
   "name": "python",
   "nbconvert_exporter": "python",
   "pygments_lexer": "ipython3",
   "version": "3.10.9"
  }
 },
 "nbformat": 4,
 "nbformat_minor": 5
}
